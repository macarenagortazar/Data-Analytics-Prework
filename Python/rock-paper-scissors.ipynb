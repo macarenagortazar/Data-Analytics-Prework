{
 "cells": [
  {
   "cell_type": "markdown",
   "metadata": {},
   "source": [
    "<img src=\"https://bit.ly/2VnXWr2\" width=\"100\" align=\"left\">"
   ]
  },
  {
   "cell_type": "markdown",
   "metadata": {},
   "source": [
    "# Rock, Paper & Scissors\n",
    "\n",
    "Let's play the famous game against our computer. You can check the rules [here](https://en.wikipedia.org/wiki/Rock%E2%80%93paper%E2%80%93scissors). \n",
    "\n",
    "## Task\n",
    "Create a program that imitates the playability of the well known game of rock, paper, scissors. Follow the guidelines provided.\n",
    "\n",
    "## Tools\n",
    "1. Loop: **for/while**\n",
    "2. Functions: **input(), print()...**\n",
    "3. Conditional statements: **if, elif, else**\n",
    "4. Definition of functions. Modular programming\n",
    "5. Import modules\n",
    "\n",
    "**To solve this challenge, the use of functions is recommended.**\n",
    "\n",
    "#### 1. Import the choice function of the random module."
   ]
  },
  {
   "cell_type": "code",
   "execution_count": 139,
   "metadata": {},
   "outputs": [],
   "source": [
    "import random"
   ]
  },
  {
   "cell_type": "markdown",
   "metadata": {},
   "source": [
    "#### 2. Create a list that includes the 3 possible gesture options of the game: 'rock', 'paper' or 'scissors'. Store the list in a variable called `gestures`."
   ]
  },
  {
   "cell_type": "code",
   "execution_count": 140,
   "metadata": {},
   "outputs": [],
   "source": [
    "gestures = [\"rock\",\"paper\",\"scissors\"]"
   ]
  },
  {
   "cell_type": "markdown",
   "metadata": {},
   "source": [
    "#### 3. Create a variable called `n_rounds` to store the maximum number of rounds to play in a game. \n",
    "Remember that the number of rounds must be odd: 1, 3, 5, ..."
   ]
  },
  {
   "cell_type": "code",
   "execution_count": 141,
   "metadata": {},
   "outputs": [],
   "source": [
    "n_rounds=5"
   ]
  },
  {
   "cell_type": "markdown",
   "metadata": {},
   "source": [
    "#### 4. Create a variable called `rounds_to_win` to store the number of rounds that a player must win to win the game.\n",
    "**Hint**: the value stored in `rounds_to_win` depends on the value of `n_rounds`. "
   ]
  },
  {
   "cell_type": "code",
   "execution_count": 142,
   "metadata": {},
   "outputs": [],
   "source": [
    "rounds_to_win=n_rounds-2"
   ]
  },
  {
   "cell_type": "markdown",
   "metadata": {},
   "source": [
    "#### 5. Create two variables to store the number of rounds that the computer and the player have won. Call these variables `cpu_score` and `player_score`."
   ]
  },
  {
   "cell_type": "code",
   "execution_count": 143,
   "metadata": {},
   "outputs": [],
   "source": [
    "cpu_score=0\n",
    "player_score=0"
   ]
  },
  {
   "cell_type": "markdown",
   "metadata": {},
   "source": [
    "#### 6. Define a function that randomly returns one of the 3 gesture options.\n",
    "You will use this function to simulate the gesture choice of the computer. "
   ]
  },
  {
   "cell_type": "code",
   "execution_count": 144,
   "metadata": {},
   "outputs": [],
   "source": [
    "def cpu_choice(gestures):\n",
    "    return cpu.choice(gestures)"
   ]
  },
  {
   "cell_type": "markdown",
   "metadata": {},
   "source": [
    "#### 7. Define a function that asks the player which is the gesture he or she wants to show: 'rock', 'paper' or 'scissors'.\n",
    "The player should only be allowed to choose one of the 3 gesture options. If the player's choice is not rock, paper or scissors, keep asking until it is."
   ]
  },
  {
   "cell_type": "code",
   "execution_count": 145,
   "metadata": {},
   "outputs": [],
   "source": [
    "def player_choice():\n",
    "    choice=\"\"\n",
    "    while (choice!=\"rock\" and choice != \"paper\" and choice != \"scissors\"):\n",
    "        try:\n",
    "            choice = input ('Choose: rock, paper or scissors: ')\n",
    "        except Exception as e:\n",
    "            print(\"Please introduce one of the suggested words\")\n",
    "    return (choice)"
   ]
  },
  {
   "cell_type": "markdown",
   "metadata": {},
   "source": [
    "#### 8. Define a function that checks who won a round. \n",
    "The function should return 0 if there is a tie, 1 if the computer wins and 2 if the player wins."
   ]
  },
  {
   "cell_type": "code",
   "execution_count": 146,
   "metadata": {},
   "outputs": [],
   "source": [
    "def wins(cpu_play, player_play):\n",
    "    if (cpu_choice==player_choice):\n",
    "        return 0\n",
    "    elif (cpu_play == 'rock'):\n",
    "        return 1 if (player_play == 'scissors') else 2\n",
    "    elif (cpu_play == 'scissors'):\n",
    "        return 1 if (player_play == 'paper') else 2\n",
    "    elif (cpu_play == 'paper'):\n",
    "        return 1 if (player_play == 'rock') else 2"
   ]
  },
  {
   "cell_type": "markdown",
   "metadata": {},
   "source": [
    "#### 9. Define a function that prints the choice of the computer, the choice of the player and a message that announces who won the current round. \n",
    "You should also use this function to update the variables that count the number of rounds that the computer and the player have won. The score of the winner increases by one point. If there is a tie, the score does not increase."
   ]
  },
  {
   "cell_type": "code",
   "execution_count": 147,
   "metadata": {},
   "outputs": [],
   "source": [
    "def game_situation(cpu_choice, player_choice, cpu_score, player_score):\n",
    "    print('The computer chose: %s \\n' %cpu_play)\n",
    "    print('The player chose: %s \\n' %player_play)\n",
    "    print('The computer has won %d matches \\n' %cpu_score)\n",
    "    print('The player has won %d matches', player_score)"
   ]
  },
  {
   "cell_type": "markdown",
   "metadata": {},
   "source": [
    "#### 10. Now it's time to code the execution of the game using the functions and variables you defined above. \n",
    "\n",
    "First, create a loop structure that repeats while no player reaches the minimum score necessary to win and the number of rounds is less than the maximum number of rounds to play in a game.  \n",
    "\n",
    "Inside the loop, use the functions and variables above to create the execution of a round: ask for the player's choice, generate the random choice of the computer, show the round results, update the scores, etc. "
   ]
  },
  {
   "cell_type": "code",
   "execution_count": 148,
   "metadata": {},
   "outputs": [
    {
     "name": "stdout",
     "output_type": "stream",
     "text": [
      "Choose: rock, paper or scissors: rock\n",
      "The computer chose: scissors \n",
      "\n",
      "The player chose: rock \n",
      "\n",
      "The computer has won 0 matches \n",
      "\n",
      "The player has won %d matches 1\n",
      "Choose: rock, paper or scissors: rock\n",
      "The computer chose: rock \n",
      "\n",
      "The player chose: rock \n",
      "\n",
      "The computer has won 0 matches \n",
      "\n",
      "The player has won %d matches 2\n",
      "Choose: rock, paper or scissors: rock\n",
      "The computer chose: rock \n",
      "\n",
      "The player chose: rock \n",
      "\n",
      "The computer has won 0 matches \n",
      "\n",
      "The player has won %d matches 3\n"
     ]
    }
   ],
   "source": [
    "while (cpu_score < rounds_to_win and player_score < rounds_to_win):\n",
    "    cpu_play= random_choice(options)\n",
    "    player_play = player_choice()\n",
    "    \n",
    "    clash = wins(cpu_play, player_play)\n",
    "    \n",
    "    if (clash == 1):\n",
    "        cpu_score += 1\n",
    "    elif (clash == 2):\n",
    "        player_score += 1\n",
    "        \n",
    "    game_situation(cpu_play, player_play, cpu_score, player_score)"
   ]
  },
  {
   "cell_type": "markdown",
   "metadata": {},
   "source": [
    "#### 11. Print the winner of the game based on who won more rounds.\n",
    "Remember that the game might be tied. "
   ]
  },
  {
   "cell_type": "code",
   "execution_count": 149,
   "metadata": {},
   "outputs": [
    {
     "name": "stdout",
     "output_type": "stream",
     "text": [
      "player wins\n"
     ]
    }
   ],
   "source": [
    "if (cpu_score > player_score):\n",
    "    print(\"computer wins\")\n",
    "else:\n",
    "    print(\"player wins\")"
   ]
  },
  {
   "cell_type": "markdown",
   "metadata": {},
   "source": [
    "# Bonus: Rock, Paper, Scissors, Lizard & Spock\n",
    "![](images/rpsls.jpg)\n",
    "\n",
    "In this challenge, you need to improve the previous game by adding two new options. To know more about the rules of the improved version of rock, paper, scissors, check this [link](http://www.samkass.com/theories/RPSSL.html). \n",
    "\n",
    "In addition, you will also need to improve how the game interacts with the player: the number of rounds to play, which must be an odd number, will be requested to the user until a valid number is entered. Define a new function to make that request.\n",
    "\n",
    "**Hint**: Try to reuse the code that you already coded in the previous challenge. If your code is efficient, this bonus will only consist of simple modifications to the original game."
   ]
  },
  {
   "cell_type": "code",
   "execution_count": 150,
   "metadata": {},
   "outputs": [],
   "source": [
    "import random"
   ]
  },
  {
   "cell_type": "code",
   "execution_count": 151,
   "metadata": {},
   "outputs": [],
   "source": [
    "gestures_new=[\"rock\",\"paper\",\"scissors\",\"spock\",\"lizard\"]"
   ]
  },
  {
   "cell_type": "code",
   "execution_count": 152,
   "metadata": {},
   "outputs": [],
   "source": [
    "n_rounds=5"
   ]
  },
  {
   "cell_type": "code",
   "execution_count": 153,
   "metadata": {},
   "outputs": [],
   "source": [
    "rounds_to_win=n_rounds-2"
   ]
  },
  {
   "cell_type": "code",
   "execution_count": 154,
   "metadata": {},
   "outputs": [],
   "source": [
    "cpu_score_new=0\n",
    "player_score_new=0"
   ]
  },
  {
   "cell_type": "code",
   "execution_count": 155,
   "metadata": {},
   "outputs": [],
   "source": [
    "def random_choice_new(gestures_new):\n",
    "    return random.choice(gestures_new)"
   ]
  },
  {
   "cell_type": "code",
   "execution_count": 156,
   "metadata": {},
   "outputs": [],
   "source": [
    "def player_choice_new():\n",
    "    choice=\"\"\n",
    "    while (choice!=\"rock\" and choice != \"paper\" and choice != \"scissors\" and choice!=\"spock\" and choice!=\"lizard\"):\n",
    "        try:\n",
    "            choice = input ('Choose: rock, paper, scissors, spock, lizard: ')\n",
    "        except Exception as e:\n",
    "            print(\"Please introduce one of the suggested words\")\n",
    "    return (choice)"
   ]
  },
  {
   "cell_type": "code",
   "execution_count": 157,
   "metadata": {},
   "outputs": [],
   "source": [
    "def wins_new(cpu_play_new, player_play_new):\n",
    "    if (cpu_choice_new==player_choice_new):\n",
    "        return 0\n",
    "    elif (cpu_play_new == \"rock\"):\n",
    "        return 1 if (player_play_new == 'scissors' or player_play_new == \"lizard\") else 2\n",
    "    elif (cpu_play_new == 'paper'):\n",
    "        return 1 if (player_play_new == 'rock' or player_play_new == \"spock\") else 2\n",
    "    elif (cpu_play_new == 'scissors'):\n",
    "        return 1 if (player_play_new == 'paper' or player_play_new == 'lizard') else 2\n",
    "    elif (cpu_play_new == 'spock'):\n",
    "        return 1 if (player_play_new == 'scissors' or player_play_new == 'rock') else 2\n",
    "    elif (cpu_play_new == 'lizard'):\n",
    "        return 1 if (player_play_new == 'spock' or player_play_new == 'paper') else 2"
   ]
  },
  {
   "cell_type": "code",
   "execution_count": 158,
   "metadata": {},
   "outputs": [],
   "source": [
    "def game_situation_new(cpu_choice_new, player_choice_new, cpu_score_new, player_score_new):\n",
    "    print('The computer chose: %s \\n' %cpu_play_new)\n",
    "    print('The player chose: %s \\n' %player_play_new)\n",
    "    print('The computer has won %d matches \\n' %cpu_score_new)\n",
    "    print('The player has won %d matches \\n' %player_score_new)"
   ]
  },
  {
   "cell_type": "code",
   "execution_count": 159,
   "metadata": {},
   "outputs": [
    {
     "name": "stdout",
     "output_type": "stream",
     "text": [
      "Choose: rock, paper, scissors, spock, lizard: rock\n",
      "The computer chose: lizard \n",
      "\n",
      "The player chose: rock \n",
      "\n",
      "The computer has won 0 matches \n",
      "\n",
      "The player has won 1 matches \n",
      "\n",
      "Choose: rock, paper, scissors, spock, lizard: rock\n",
      "The computer chose: spock \n",
      "\n",
      "The player chose: rock \n",
      "\n",
      "The computer has won 1 matches \n",
      "\n",
      "The player has won 1 matches \n",
      "\n",
      "Choose: rock, paper, scissors, spock, lizard: rock\n",
      "The computer chose: paper \n",
      "\n",
      "The player chose: rock \n",
      "\n",
      "The computer has won 2 matches \n",
      "\n",
      "The player has won 1 matches \n",
      "\n",
      "Choose: rock, paper, scissors, spock, lizard: jches\n",
      "Choose: rock, paper, scissors, spock, lizard: rock\n",
      "The computer chose: lizard \n",
      "\n",
      "The player chose: rock \n",
      "\n",
      "The computer has won 2 matches \n",
      "\n",
      "The player has won 2 matches \n",
      "\n",
      "Choose: rock, paper, scissors, spock, lizard: rock\n",
      "The computer chose: spock \n",
      "\n",
      "The player chose: rock \n",
      "\n",
      "The computer has won 3 matches \n",
      "\n",
      "The player has won 2 matches \n",
      "\n"
     ]
    }
   ],
   "source": [
    "while (cpu_score_new < rounds_to_win and player_score_new < rounds_to_win):\n",
    "    cpu_play_new= random_choice_new(gestures_new)\n",
    "    player_play_new = player_choice_new()\n",
    "    \n",
    "    clash_new = wins_new(cpu_play_new, player_play_new)\n",
    "    \n",
    "    if (clash_new == 1):\n",
    "        cpu_score_new += 1\n",
    "    elif (clash_new == 2):\n",
    "        player_score_new += 1\n",
    "        \n",
    "    game_situation_new(cpu_play_new, player_play_new, cpu_score_new, player_score_new)"
   ]
  },
  {
   "cell_type": "code",
   "execution_count": 160,
   "metadata": {},
   "outputs": [
    {
     "name": "stdout",
     "output_type": "stream",
     "text": [
      "computer wins\n"
     ]
    }
   ],
   "source": [
    "if (cpu_score_new > player_score_new):\n",
    "    print(\"computer wins\")\n",
    "else:\n",
    "    print(\"player wins\")"
   ]
  }
 ],
 "metadata": {
  "kernelspec": {
   "display_name": "Python 3",
   "language": "python",
   "name": "python3"
  },
  "language_info": {
   "codemirror_mode": {
    "name": "ipython",
    "version": 3
   },
   "file_extension": ".py",
   "mimetype": "text/x-python",
   "name": "python",
   "nbconvert_exporter": "python",
   "pygments_lexer": "ipython3",
   "version": "3.8.3"
  }
 },
 "nbformat": 4,
 "nbformat_minor": 2
}
